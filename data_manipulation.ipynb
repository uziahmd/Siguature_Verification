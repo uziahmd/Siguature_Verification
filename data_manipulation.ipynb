{
 "cells": [
  {
   "cell_type": "code",
   "execution_count": null,
   "metadata": {},
   "outputs": [],
   "source": [
    "import os\n",
    "import shutil\n",
    "import numpy as np"
   ]
  },
  {
   "cell_type": "code",
   "execution_count": null,
   "metadata": {},
   "outputs": [],
   "source": [
    "# Define the split percentages\n",
    "train_split = 0.7\n",
    "val_split = 0.15\n",
    "test_split = 0.15"
   ]
  },
  {
   "cell_type": "code",
   "execution_count": null,
   "metadata": {},
   "outputs": [],
   "source": [
    "# Define the paths\n",
    "source_folder = 'ChiSig'\n",
    "train_folder = 'train'\n",
    "val_folder = 'validation'\n",
    "test_folder = 'test'"
   ]
  },
  {
   "cell_type": "code",
   "execution_count": null,
   "metadata": {},
   "outputs": [],
   "source": [
    "# Create folders for the splits\n",
    "for folder in [train_folder, val_folder, test_folder]:\n",
    "    os.makedirs(folder, exist_ok=True)\n",
    "    os.makedirs(os.path.join(folder, 'positive'), exist_ok=True)\n",
    "    os.makedirs(os.path.join(folder, 'negative'), exist_ok=True)"
   ]
  },
  {
   "cell_type": "code",
   "execution_count": null,
   "metadata": {},
   "outputs": [],
   "source": [
    "# Identify professional forgeries and corresponding originals\n",
    "all_files = os.listdir(source_folder)"
   ]
  },
  {
   "cell_type": "code",
   "execution_count": null,
   "metadata": {},
   "outputs": [],
   "source": [
    "print(all_files)"
   ]
  },
  {
   "cell_type": "code",
   "execution_count": null,
   "metadata": {},
   "outputs": [],
   "source": [
    "originals = set()\n",
    "professional_forgeries = set()"
   ]
  },
  {
   "cell_type": "code",
   "execution_count": null,
   "metadata": {},
   "outputs": [],
   "source": [
    "for file in all_files:\n",
    "    parts = file.split('-')\n",
    "    if len(parts) < 3:\n",
    "        continue\n",
    "\n",
    "    number_a = int(parts[1])\n",
    "    if number_a > 100:\n",
    "        professional_forgeries.add(number_a)\n",
    "        originals.add(number_a - 100)"
   ]
  },
  {
   "cell_type": "code",
   "execution_count": null,
   "metadata": {},
   "outputs": [],
   "source": [
    "# Function to determine label\n",
    "def get_label(filename):\n",
    "    number_a = int(filename.split('-')[1])\n",
    "\n",
    "    # Original signature\n",
    "    if number_a in originals:\n",
    "        return 'positive'\n",
    "    # Professional forgery\n",
    "    elif number_a in professional_forgeries:\n",
    "        return 'negative'\n",
    "    # Random forgery\n",
    "    else:\n",
    "        return 'negative'"
   ]
  },
  {
   "cell_type": "code",
   "execution_count": null,
   "metadata": {},
   "outputs": [],
   "source": [
    "# Shuffle files\n",
    "seed = 42\n",
    "np.random.seed(seed)\n",
    "np.random.shuffle(all_files)"
   ]
  },
  {
   "cell_type": "code",
   "execution_count": null,
   "metadata": {},
   "outputs": [],
   "source": [
    "# Split the files\n",
    "total_files = len(all_files)\n",
    "train_count = int(total_files * train_split)\n",
    "val_count = int(total_files * val_split)"
   ]
  },
  {
   "cell_type": "code",
   "execution_count": null,
   "metadata": {},
   "outputs": [],
   "source": [
    "train_files = all_files[:train_count]\n",
    "val_files = all_files[train_count:train_count + val_count]\n",
    "test_files = all_files[train_count + val_count:]"
   ]
  },
  {
   "cell_type": "code",
   "execution_count": null,
   "metadata": {},
   "outputs": [],
   "source": [
    "def copy_files(files, target_folder):\n",
    "    for file in files:\n",
    "        label = get_label(file)\n",
    "        if label:\n",
    "            shutil.copy(os.path.join(source_folder, file), os.path.join(target_folder, label))"
   ]
  },
  {
   "cell_type": "code",
   "execution_count": null,
   "metadata": {
    "scrolled": true
   },
   "outputs": [],
   "source": [
    "# Copy files to their respective sets\n",
    "copy_files(train_files, train_folder)\n",
    "copy_files(val_files, val_folder)\n",
    "copy_files(test_files, test_folder)\n",
    "\n",
    "print(\"Data splitting completed.\")"
   ]
  },
  {
   "cell_type": "code",
   "execution_count": null,
   "metadata": {},
   "outputs": [],
   "source": []
  }
 ],
 "metadata": {
  "kernelspec": {
   "display_name": "Python 3 (ipykernel)",
   "language": "python",
   "name": "python3"
  },
  "language_info": {
   "codemirror_mode": {
    "name": "ipython",
    "version": 3
   },
   "file_extension": ".py",
   "mimetype": "text/x-python",
   "name": "python",
   "nbconvert_exporter": "python",
   "pygments_lexer": "ipython3",
   "version": "3.9.18"
  },
  "vscode": {
   "interpreter": {
    "hash": "2ba0da8eb658c85323182434a9e32a5d1f692a3d094e26b51496e7fe1b59ddd0"
   }
  }
 },
 "nbformat": 4,
 "nbformat_minor": 4
}
