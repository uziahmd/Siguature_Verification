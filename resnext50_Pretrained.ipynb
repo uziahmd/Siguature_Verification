{
 "cells": [
  {
   "cell_type": "code",
   "execution_count": null,
   "metadata": {},
   "outputs": [],
   "source": [
    "import torch\n",
    "import torchvision\n",
    "import torchvision.transforms as transforms\n",
    "from torchvision.datasets import ImageFolder\n",
    "from torchvision.models import resnext50_32x4d\n",
    "from torch.utils.data import DataLoader"
   ]
  },
  {
   "cell_type": "code",
   "execution_count": null,
   "metadata": {},
   "outputs": [],
   "source": [
    "transform = transforms.Compose([\n",
    "    transforms.Resize((224, 224)),  # Resize to the input size of the model\n",
    "    transforms.ToTensor(),\n",
    "    transforms.Normalize(mean=[0.485, 0.456, 0.406], std=[0.229, 0.224, 0.225])\n",
    "])"
   ]
  },
  {
   "cell_type": "code",
   "execution_count": null,
   "metadata": {},
   "outputs": [],
   "source": [
    "train_data = ImageFolder(root='train', transform=transform)\n",
    "val_data = ImageFolder(root='validation', transform=transform)\n",
    "test_data = ImageFolder(root='test', transform=transform)\n",
    "\n",
    "# Creating data loaders\n",
    "train_loader = DataLoader(train_data, batch_size=32, shuffle=True)\n",
    "val_loader = DataLoader(val_data, batch_size=32, shuffle=False)\n",
    "test_loader = DataLoader(test_data, batch_size=32, shuffle=False)"
   ]
  },
  {
   "cell_type": "code",
   "execution_count": null,
   "metadata": {},
   "outputs": [],
   "source": [
    "# Second transformation to try later.\n",
    "# from torchvision.transforms import Resize, Pad, ToTensor, Normalize, Compose, CenterCrop\n",
    "\n",
    "# def transform_with_padding(image_width=436, image_height=184, target_size=224):\n",
    "#     # Calculate padding\n",
    "#     aspect_ratio = image_width / image_height\n",
    "#     if aspect_ratio > 1:\n",
    "#         new_height = target_size\n",
    "#         new_width = int(aspect_ratio * new_height)\n",
    "#         padding = (new_width - target_size) // 2\n",
    "#         padding = (padding, 0, padding, 0)  # left, top, right, bottom\n",
    "#     else:\n",
    "#         new_width = target_size\n",
    "#         new_height = int(new_width / aspect_ratio)\n",
    "#         padding = (0, (new_height - target_size) // 2, 0, (new_height - target_size) // 2)\n",
    "\n",
    "#     return Compose([\n",
    "#         Resize((new_height, new_width)),\n",
    "#         Pad(padding, fill=0, padding_mode='constant'),\n",
    "#         ToTensor(),\n",
    "#         Normalize(mean=[0.485, 0.456, 0.406], std=[0.229, 0.224, 0.225])\n",
    "#     ])\n",
    "\n",
    "# transform = transform_with_padding()\n",
    "\n",
    "# # Apply this transform to your datasets\n",
    "# train_data = ImageFolder(root='train', transform=transform)\n",
    "# val_data = ImageFolder(root='validation', transform=transform)\n",
    "# test_data = ImageFolder(root='test', transform=transform)"
   ]
  },
  {
   "cell_type": "code",
   "execution_count": null,
   "metadata": {
    "scrolled": true
   },
   "outputs": [],
   "source": [
    "print(train_data)"
   ]
  },
  {
   "cell_type": "code",
   "execution_count": null,
   "metadata": {},
   "outputs": [],
   "source": [
    "print(train_data[1])"
   ]
  },
  {
   "cell_type": "code",
   "execution_count": null,
   "metadata": {},
   "outputs": [],
   "source": [
    "model = resnext50_32x4d(pretrained=True)"
   ]
  },
  {
   "cell_type": "code",
   "execution_count": null,
   "metadata": {},
   "outputs": [],
   "source": [
    "num_features = model.fc.in_features\n",
    "model.fc = torch.nn.Linear(num_features, 2)"
   ]
  },
  {
   "cell_type": "code",
   "execution_count": null,
   "metadata": {},
   "outputs": [],
   "source": [
    "print(num_features)"
   ]
  },
  {
   "cell_type": "code",
   "execution_count": null,
   "metadata": {},
   "outputs": [],
   "source": [
    "criterion = torch.nn.CrossEntropyLoss()\n",
    "optimizer = torch.optim.Adam(model.parameters(), lr=0.001)"
   ]
  },
  {
   "cell_type": "code",
   "execution_count": null,
   "metadata": {},
   "outputs": [],
   "source": [
    "from tqdm import tqdm\n",
    "import torch.nn.functional as F"
   ]
  },
  {
   "cell_type": "code",
   "execution_count": null,
   "metadata": {},
   "outputs": [],
   "source": [
    "def train_model(model, train_loader, criterion, optimizer, num_epochs=10):\n",
    "    model.train() \n",
    "\n",
    "    for epoch in range(num_epochs):\n",
    "        running_loss = 0.0\n",
    "        correct_predictions = 0\n",
    "\n",
    "        for inputs, labels in tqdm(train_loader, desc=f'Epoch {epoch + 1}/{num_epochs}', unit='batch'):\n",
    "            optimizer.zero_grad()  # Zero the parameter gradients\n",
    "\n",
    "            # Forward pass\n",
    "            outputs = model(inputs)\n",
    "            loss = criterion(outputs, labels)\n",
    "\n",
    "            # Backward pass and optimize\n",
    "            loss.backward()\n",
    "            optimizer.step()\n",
    "\n",
    "            # Statistics\n",
    "            running_loss += loss.item() * inputs.size(0)\n",
    "            _, predicted = torch.max(outputs, 1)\n",
    "            correct_predictions += (predicted == labels).sum().item()\n",
    "\n",
    "        epoch_loss = running_loss / len(train_loader.dataset)\n",
    "        epoch_acc = correct_predictions / len(train_loader.dataset)\n",
    "\n",
    "        print(f'Epoch {epoch + 1}: Loss: {epoch_loss:.4f}, Accuracy: {epoch_acc:.4f}')\n"
   ]
  },
  {
   "cell_type": "code",
   "execution_count": null,
   "metadata": {},
   "outputs": [],
   "source": [
    "model = resnext50_32x4d(pretrained=True)\n",
    "num_features = model.fc.in_features\n",
    "model.fc = torch.nn.Linear(num_features, 2)\n",
    "\n",
    "criterion = torch.nn.CrossEntropyLoss()\n",
    "optimizer = torch.optim.Adam(model.parameters(), lr=0.001)"
   ]
  },
  {
   "cell_type": "code",
   "execution_count": null,
   "metadata": {},
   "outputs": [],
   "source": [
    "num_epochs = 5  # Adjust \n",
    "train_model(model, train_loader, criterion, optimizer, num_epochs=num_epochs)"
   ]
  },
  {
   "cell_type": "code",
   "execution_count": null,
   "metadata": {},
   "outputs": [],
   "source": [
    "# Save the model's state dictionary in the root directory\n",
    "model_save_path = 'resnext50_model_state.pth' \n",
    "torch.save(model.state_dict(), model_save_path)\n",
    "print(f'Model state dictionary saved to {model_save_path}')"
   ]
  },
  {
   "cell_type": "code",
   "execution_count": null,
   "metadata": {},
   "outputs": [],
   "source": [
    "# Load the saved state dictionary\n",
    "model.load_state_dict(torch.load(model_save_path))\n",
    "print('Model loaded successfully.')"
   ]
  },
  {
   "cell_type": "code",
   "execution_count": null,
   "metadata": {},
   "outputs": [],
   "source": [
    "from sklearn.metrics import classification_report, confusion_matrix\n",
    "import numpy as np"
   ]
  },
  {
   "cell_type": "code",
   "execution_count": null,
   "metadata": {},
   "outputs": [],
   "source": [
    "from torch.nn.functional import softmax\n"
   ]
  },
  {
   "cell_type": "code",
   "execution_count": null,
   "metadata": {
    "scrolled": false
   },
   "outputs": [],
   "source": [
    "from sklearn.metrics import confusion_matrix, accuracy_score, roc_curve\n",
    "import numpy as np\n",
    "\n",
    "def evaluate_model(model, data_loader):\n",
    "    model.eval()  # Set the model to evaluation mode\n",
    "\n",
    "    all_scores = []\n",
    "    all_labels = []\n",
    "\n",
    "    with torch.no_grad():\n",
    "        for inputs, labels in tqdm(data_loader, desc='Evaluating', unit='batch'):\n",
    "            outputs = model(inputs)\n",
    "            probabilities = softmax(outputs, dim=1)[:, 1]\n",
    "            all_scores.extend(probabilities.cpu().numpy())\n",
    "            all_labels.extend(labels.cpu().numpy())\n",
    "\n",
    "    # Convert scores to binary predictions using a threshold (e.g., 0.5)\n",
    "    threshold = 0.5\n",
    "    predictions = [1 if score > threshold else 0 for score in all_scores]\n",
    "\n",
    "    # Confusion Matrix\n",
    "    tn, fp, fn, tp = confusion_matrix(all_labels, predictions).ravel()\n",
    "\n",
    "    # Calculate Accuracy\n",
    "    acc = accuracy_score(all_labels, predictions)\n",
    "\n",
    "    # Calculate EER\n",
    "    fpr, tpr, thresholds = roc_curve(all_labels, all_scores)\n",
    "    fnr = 1 - tpr\n",
    "    eer_threshold = thresholds[np.nanargmin(np.absolute((fnr - fpr)))]\n",
    "    eer = fpr[np.nanargmin(np.absolute((fnr - fpr)))]\n",
    "\n",
    "    # Additional Calculations\n",
    "    num_false_accepted = fp  # Forged signatures incorrectly classified as genuine\n",
    "    num_false_rejected = fn  # Genuine signatures incorrectly classified as forgeries\n",
    "    total_num_forged = fp + tn  # Total number of forged signatures\n",
    "    total_num_genuine = fn + tp  # Total number of genuine signatures\n",
    "\n",
    "    return acc, eer, num_false_accepted, num_false_rejected, total_num_forged, total_num_genuine\n",
    "\n",
    "# Evaluate on Validation and Test Sets\n",
    "val_acc, val_eer, val_fa, val_fr, val_total_forged, val_total_genuine = evaluate_model(model, val_loader)\n",
    "print(f'Validation: Accuracy: {val_acc:.4f}, EER: {val_eer:.4f}, False Accepted: {val_fa}, False Rejected: {val_fr}, Total Forged: {val_total_forged}, Total Genuine: {val_total_genuine}')\n",
    "\n",
    "test_acc, test_eer, test_fa, test_fr, test_total_forged, test_total_genuine = evaluate_model(model, test_loader)\n",
    "print(f'Test: Accuracy: {test_acc:.4f}, EER: {test_eer:.4f}, False Accepted: {test_fa}, False Rejected: {test_fr}, Total Forged: {test_total_forged}, Total Genuine: {test_total_genuine}')"
   ]
  },
  {
   "cell_type": "code",
   "execution_count": null,
   "metadata": {},
   "outputs": [],
   "source": [
    "FPR = 131/398\n",
    "FAR = 522/1198\n",
    "TAR = 1 - FPR\n",
    "print(f'FAR: {FAR}, FPR: {FPR}, TAR: {TAR}')"
   ]
  },
  {
   "cell_type": "code",
   "execution_count": null,
   "metadata": {},
   "outputs": [],
   "source": [
    "print(train_data)"
   ]
  },
  {
   "cell_type": "code",
   "execution_count": null,
   "metadata": {},
   "outputs": [],
   "source": [
    "print(test_data)"
   ]
  },
  {
   "cell_type": "code",
   "execution_count": null,
   "metadata": {},
   "outputs": [],
   "source": [
    "print(val_data)"
   ]
  },
  {
   "cell_type": "code",
   "execution_count": null,
   "metadata": {},
   "outputs": [],
   "source": []
  }
 ],
 "metadata": {
  "kernelspec": {
   "display_name": "Python 3 (ipykernel)",
   "language": "python",
   "name": "python3"
  },
  "language_info": {
   "codemirror_mode": {
    "name": "ipython",
    "version": 3
   },
   "file_extension": ".py",
   "mimetype": "text/x-python",
   "name": "python",
   "nbconvert_exporter": "python",
   "pygments_lexer": "ipython3",
   "version": "3.9.18"
  }
 },
 "nbformat": 4,
 "nbformat_minor": 2
}
